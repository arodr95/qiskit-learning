{
 "cells": [
  {
   "cell_type": "code",
   "execution_count": 10,
   "metadata": {},
   "outputs": [],
   "source": [
    "# Import required packages \n",
    "from qiskit import *\n",
    "from qiskit_aer import * \n",
    "from qiskit.visualization import plot_histogram\n",
    "%matplotlib inline"
   ]
  },
  {
   "cell_type": "code",
   "execution_count": 11,
   "metadata": {},
   "outputs": [
    {
     "data": {
      "text/plain": [
       "<qiskit.circuit.instructionset.InstructionSet at 0x121e60130>"
      ]
     },
     "execution_count": 11,
     "metadata": {},
     "output_type": "execute_result"
    }
   ],
   "source": [
    "# Create an instruction set to run on the simulator \n",
    "\n",
    "qr = QuantumRegister(1)     # Create a quantum register with 1 qubit\n",
    "cr = ClassicalRegister(1)   # Create a classical register with 1 bit\n",
    "\n",
    "circuit = QuantumCircuit(qr, cr)    # Create a quantum circuit consisting of quantum and classical register\n",
    "circuit.h(qr)                       # Apply a Hadamard gate to put the qubit into superposition \n",
    "circuit.measure(qr, cr)             # Measure the circuit and store the result on the classical register "
   ]
  },
  {
   "cell_type": "code",
   "execution_count": 12,
   "metadata": {},
   "outputs": [
    {
     "data": {
      "image/png": "[encoded data removed]",
      "text/plain": [
       "<Figure size 640x480 with 1 Axes>"
      ]
     },
     "metadata": {},
     "output_type": "display_data"
    }
   ],
   "source": [
    "# Run simulation, measure results, and plot\n",
    "\n",
    "simulator = AerSimulator()                              # Create an Aer simulator \n",
    "compiled_circuit = transpile(circuit, simulator)        # Transpile (optimize) the circuit for the hardware \n",
    "sim_result = simulator.run(compiled_circuit).result()   # Run the simulation and retrieve the result\n",
    "\n",
    "plot_histogram(sim_result.get_counts());    # ';' suppresses duplicate histogram"
   ]
  }
 ],
 "metadata": {
  "kernelspec": {
   "display_name": "Python 3",
   "language": "python",
   "name": "python3"
  },
  "language_info": {
   "codemirror_mode": {
    "name": "ipython",
    "version": 3
   },
   "file_extension": ".py",
   "mimetype": "text/x-python",
   "name": "python",
   "nbconvert_exporter": "python",
   "pygments_lexer": "ipython3",
   "version": "3.12.4"
  }
 },
 "nbformat": 4,
 "nbformat_minor": 2
}
