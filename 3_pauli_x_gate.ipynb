{
 "cells": [
  {
   "cell_type": "markdown",
   "metadata": {},
   "source": [
    "# Pauli-X Matrix Representation"
   ]
  },
  {
   "cell_type": "markdown",
   "metadata": {},
   "source": [
    "**The Quantum Not Gate**"
   ]
  },
  {
   "cell_type": "markdown",
   "metadata": {},
   "source": [
    "$\n",
    "X =\n",
    "\\begin{bmatrix}0&1\\cr1&0\\end{bmatrix}\n",
    "$"
   ]
  },
  {
   "cell_type": "markdown",
   "metadata": {},
   "source": [
    "$\n",
    "\\ket{X|0} = \n",
    "\\begin{bmatrix}0&1\\cr1&0\\end{bmatrix}\n",
    "\\begin{bmatrix}1\\cr0\\end{bmatrix}\n",
    "= \\begin{bmatrix}0\\cr1\\end{bmatrix}\n",
    "=\\ket{1}\n",
    "$"
   ]
  },
  {
   "cell_type": "markdown",
   "metadata": {},
   "source": [
    "$\n",
    "\\ket{X|1} = \n",
    "\\begin{bmatrix}0&1\\cr1&0\\end{bmatrix}\n",
    "\\begin{bmatrix}0\\cr1\\end{bmatrix}\n",
    "= \\begin{bmatrix}1\\cr0\\end{bmatrix}\n",
    "=\\ket{0}\n",
    "$"
   ]
  },
  {
   "cell_type": "markdown",
   "metadata": {},
   "source": [
    "$\n",
    "\\ket{X|\\Psi} = \n",
    "\\begin{bmatrix}0&1\\cr1&0\\end{bmatrix}\n",
    "\\begin{bmatrix}\\alpha\\cr\\beta\\end{bmatrix}\n",
    "= \\begin{bmatrix}\\beta\\cr\\alpha\\end{bmatrix}\n",
    "$"
   ]
  }
 ],
 "metadata": {
  "kernelspec": {
   "display_name": ".venv",
   "language": "python",
   "name": "python3"
  },
  "language_info": {
   "name": "python",
   "version": "3.12.4"
  }
 },
 "nbformat": 4,
 "nbformat_minor": 2
}
