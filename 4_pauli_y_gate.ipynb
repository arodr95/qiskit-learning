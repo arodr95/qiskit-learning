{
 "cells": [
  {
   "cell_type": "markdown",
   "metadata": {},
   "source": [
    "# Pauli-Y Matrix Representation"
   ]
  },
  {
   "cell_type": "markdown",
   "metadata": {},
   "source": [
    "$\n",
    "Y =\n",
    "\\begin{bmatrix}0&-i\\cr i&0\\end{bmatrix}\n",
    "$\n",
    "<br>\n",
    "<br>\n",
    "Represents a rotation around the y-axis $\\pi$ or $180\\degree$."
   ]
  },
  {
   "cell_type": "markdown",
   "metadata": {},
   "source": [
    "$\n",
    "\\ket{Y|0} = \n",
    "\\begin{bmatrix}0&-i\\cr i&0\\end{bmatrix}\n",
    "\\begin{bmatrix}1\\cr0\\end{bmatrix}\n",
    "= \\begin{bmatrix}0\\cr i\\end{bmatrix}\n",
    "=i\\ket{1}\n",
    "$"
   ]
  },
  {
   "cell_type": "markdown",
   "metadata": {},
   "source": [
    "$\n",
    "\\ket{Y|1} = \n",
    "\\begin{bmatrix}0&-i\\cr i&0\\end{bmatrix}\n",
    "\\begin{bmatrix}0\\cr1\\end{bmatrix}\n",
    "= \\begin{bmatrix}-i\\cr0\\end{bmatrix}\n",
    "=-i\\ket{0}\n",
    "$"
   ]
  },
  {
   "cell_type": "markdown",
   "metadata": {},
   "source": [
    "$\\ket{\\psi}=\\alpha\\ket{0}+\\beta\\ket{1}$"
   ]
  },
  {
   "cell_type": "markdown",
   "metadata": {},
   "source": [
    "$\n",
    "\\ket{Y|\\psi} = \n",
    "\\begin{bmatrix}0&-i\\cr i&0\\end{bmatrix}\n",
    "\\begin{bmatrix}\\alpha\\cr\\beta\\end{bmatrix}\n",
    "= i\\begin{bmatrix}-\\beta\\cr\\alpha\\end{bmatrix}\n",
    "= i(\\ket{\\alpha|1}-\\ket{\\beta|0})\n",
    "$"
   ]
  },
  {
   "cell_type": "markdown",
   "metadata": {},
   "source": [
    "Global Phase: \n",
    "$ \n",
    "i = e^{i\\frac{\\pi}{2}}\n",
    "$"
   ]
  },
  {
   "cell_type": "markdown",
   "metadata": {},
   "source": [
    "Relative Phase: \n",
    "$\n",
    "-1 = e^{i\\pi}\n",
    "$"
   ]
  }
 ],
 "metadata": {
  "language_info": {
   "name": "python"
  }
 },
 "nbformat": 4,
 "nbformat_minor": 2
}
