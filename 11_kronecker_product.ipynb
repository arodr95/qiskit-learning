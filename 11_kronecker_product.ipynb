{
 "cells": [
  {
   "cell_type": "markdown",
   "metadata": {},
   "source": [
    "# Single Qubit Gates on Multi Qubit States"
   ]
  },
  {
   "cell_type": "markdown",
   "metadata": {},
   "source": [
    "So far we have applied single qubit gates to 1 qubit at a time. \n",
    "<br>\n",
    "But what if we need to apply a gate to a multi-qubit system?\n",
    "<br>\n",
    "Let's take a 2 qubit system where we want to apply an X gate on the first qubit.\n",
    "<br>\n",
    "How do we accomplish this mathematically? "
   ]
  },
  {
   "cell_type": "markdown",
   "metadata": {},
   "source": [
    "$\n",
    "X =\n",
    "\\begin{bmatrix}0&1\\cr1&0\\end{bmatrix}\n",
    "$"
   ]
  },
  {
   "cell_type": "markdown",
   "metadata": {},
   "source": [
    "$\n",
    "\\ket{00} =\n",
    "\\begin{bmatrix}1\\cr 0\\cr 0\\cr 0\\end{bmatrix}\n",
    "$"
   ]
  },
  {
   "cell_type": "markdown",
   "metadata": {},
   "source": [
    "The Pauli-X operator is a 2x2 matrix.\n",
    "<br>\n",
    "The initial state vector for our pair of qubits is $\\ket{00}$, a 4x1 matrix."
   ]
  },
  {
   "cell_type": "markdown",
   "metadata": {},
   "source": [
    "$\n",
    "X\\ket{00}\n",
    "=\\begin{bmatrix}0&1\\cr1&0\\end{bmatrix}\n",
    "\\begin{bmatrix}1\\cr 0\\cr 0\\cr 0\\end{bmatrix}\n",
    "$\n",
    "<br>\n",
    "<br>\n",
    "To multiply 2 matrices, their inner dimensions must match. In this case they do not.\n",
    "<br>\n",
    "2x2 and 4x1\n",
    "<br>\n",
    "$2\\neq4$\n",
    "<br>\n",
    "There is also nothing here telling us which qubit the X gate should flip."
   ]
  },
  {
   "cell_type": "markdown",
   "metadata": {},
   "source": [
    "We need to turn the 2x2 $X$ matrix into a 4x4 matrix operator that we can apply to our multi-qubit state vector."
   ]
  },
  {
   "cell_type": "markdown",
   "metadata": {},
   "source": [
    "## Kronecker Product"
   ]
  },
  {
   "cell_type": "markdown",
   "metadata": {},
   "source": [
    "The Kronecker Product is an operation on two matrices that produces a block matrix. \n",
    "<br>\n",
    "It is a generalization of the outer product operation on two vectors.\n",
    "<br>\n",
    "It is denoted by the symbol $\\otimes$"
   ]
  },
  {
   "cell_type": "markdown",
   "metadata": {},
   "source": [
    "Let's calculate the Kronecker product of these 2x2 matrices as an example. \n",
    "<br>\n",
    "<br>\n",
    "$\n",
    "\\begin{bmatrix}a&b\\cr c&d\\end{bmatrix}\n",
    "\\otimes\n",
    "\\begin{bmatrix}w&x\\cr y&z\\end{bmatrix}\n",
    "=\\begin{bmatrix}\n",
    "a\\begin{bmatrix}w&x\\cr y&z\\end{bmatrix}&b\\begin{bmatrix}w&x\\cr y&z\\end{bmatrix}\n",
    "\\cr\n",
    "c\\begin{bmatrix}w&x\\cr y&z\\end{bmatrix}&d\\begin{bmatrix}w&x\\cr y&z\\end{bmatrix}\n",
    "\\end{bmatrix}\n",
    "=\\begin{bmatrix}\n",
    "aw&ax&bw&bx\n",
    "\\cr\n",
    "ay&az&by&bz\n",
    "\\cr\n",
    "cw&cx&dw&dx\n",
    "\\cr\n",
    "cy&cz&dw&dz\n",
    "\\end{bmatrix}\n",
    "$\n",
    "<br>\n",
    "<br>\n",
    "The Knronecker transforms the 2x2 matrices into a 4x4 matrix."
   ]
  },
  {
   "cell_type": "markdown",
   "metadata": {},
   "source": [
    "Now, let's use the Kronecker product to build a 4x4 Pauli-X gate to apply on the second qubit of our quantum state.\n",
    "<br>\n",
    "The operand on the left qill be applied to the second qubit and the right will be applied to the first qubit.\n",
    "<br>\n",
    "Since we are not applying any gates to the first qubit we can just apply the identity matrix like this:\n",
    "<br>\n",
    "<br>\n",
    "$\n",
    "X \\otimes I\n",
    "=\\begin{bmatrix}\n",
    "0&1\n",
    "\\cr\n",
    "1&0\n",
    "\\end{bmatrix}\n",
    "\\otimes\n",
    "\\begin{bmatrix}\n",
    "1&0\n",
    "\\cr\n",
    "0&1\n",
    "\\end{bmatrix}\n",
    "=\\begin{bmatrix}\n",
    "0&0&1&0\n",
    "\\cr\n",
    "0&0&0&1\n",
    "\\cr\n",
    "1&0&0&0\n",
    "\\cr \n",
    "0&1&0&0\n",
    "\\end{bmatrix}\n",
    "=\\begin{bmatrix}\n",
    "0&I\n",
    "\\cr\n",
    "I&0\n",
    "\\end{bmatrix}\n",
    "$\n",
    "<br>\n",
    "<br>\n",
    "The final value on the right is still a 4x4 matrix but written in a simplified format. "
   ]
  },
  {
   "cell_type": "markdown",
   "metadata": {},
   "source": [
    "Now let's apply this new operator on the state vector of our two qubits.\n",
    "<br>\n",
    "<br>\n",
    "$\n",
    "(X \\otimes I)\\ket{00}\n",
    "=\\begin{bmatrix}\n",
    "0&0&1&0\n",
    "\\cr\n",
    "0&0&0&1\n",
    "\\cr\n",
    "1&0&0&0\n",
    "\\cr \n",
    "0&1&0&0\n",
    "\\end{bmatrix}\n",
    "\\begin{bmatrix}1\\cr 0\\cr 0\\cr 0\\end{bmatrix}\n",
    "=\\begin{bmatrix}0\\cr 0\\cr 1\\cr 0\\end{bmatrix}\n",
    "=\\ket{10}\n",
    "$\n",
    "<br>\n",
    "<br>\n",
    "The Pauli-X gate was successfully applied to our first qubit and our first qubit remained unchanged, changing the state to $\\ket{10}$"
   ]
  }
 ],
 "metadata": {
  "language_info": {
   "name": "python"
  }
 },
 "nbformat": 4,
 "nbformat_minor": 2
}
