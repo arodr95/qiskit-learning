{
 "cells": [
  {
   "cell_type": "markdown",
   "metadata": {},
   "source": [
    "# Arbitrary Basis Measurements"
   ]
  },
  {
   "cell_type": "markdown",
   "metadata": {},
   "source": [
    "Measuring on the z-axis is what we have seen so far in this notebook.\n",
    "<br>\n",
    "If a qubit is in it's initial state of $\\ket{0}$ then our measurement will be $\\ket{0}$ 100% of the time, and likewise for $\\ket{1}$ being measured as $\\ket{1}$.\n",
    "<br>\n",
    "If our qubit was in the state $\\ket{+}$ or $\\ket{-}$, then we have a 50%/50% chance of measuring $\\ket{0}$ or $\\ket{1}$."
   ]
  },
  {
   "cell_type": "markdown",
   "metadata": {},
   "source": [
    "What if we wanted to measure on a different axis, like the x-axis?\n",
    "<br>\n",
    "If a qubit is in state $\\ket{+}$ if we perform our measurement on the x-axis, then our measurement will be $\\ket{+}$ 100% of the time, and likewise for $\\ket{-}$ being measured as $\\ket{-}$ on the x-axis.\n",
    "<br>\n",
    "If the qubit is in state $\\ket{0}$ or $\\ket{1}$ and we measure on the x-axis, we have a 50%/50% chance of measuring $\\ket{+}$ or $\\ket{-}$."
   ]
  },
  {
   "cell_type": "markdown",
   "metadata": {},
   "source": [
    "## X-Axis Measurement"
   ]
  },
  {
   "cell_type": "markdown",
   "metadata": {},
   "source": [
    "$\n",
    "P(\\ket{\\psi} = \\ket{+})\n",
    "=|\\braket{+|\\psi}|^2\n",
    "$\n",
    "<br>\n",
    "<br>\n",
    "$\n",
    "P(\\ket{\\psi} = \\ket{-})\n",
    "=|\\braket{-|\\psi}|^2\n",
    "$"
   ]
  },
  {
   "cell_type": "markdown",
   "metadata": {},
   "source": [
    "for example..."
   ]
  },
  {
   "cell_type": "markdown",
   "metadata": {},
   "source": [
    "$\n",
    "P(\\ket{0} = \\ket{+})\n",
    "=|\\braket{+|0}|^2\n",
    "=|\\frac{1}{\\sqrt{2}}|^2\n",
    "=\\frac{1}{2}\n",
    "$\n",
    "<br>\n",
    "<br>\n",
    "$\n",
    "P(\\ket{0} = \\ket{-})\n",
    "=|\\braket{-|0}|^2\n",
    "=|\\frac{1}{\\sqrt{2}}|^2\n",
    "=\\frac{1}{2}\n",
    "$"
   ]
  },
  {
   "cell_type": "markdown",
   "metadata": {},
   "source": [
    "$\n",
    "P(\\ket{1} = \\ket{+})\n",
    "=|\\braket{+|1}|^2\n",
    "=|\\frac{1}{\\sqrt{2}}|^2\n",
    "=\\frac{1}{2}\n",
    "$\n",
    "<br>\n",
    "<br>\n",
    "$\n",
    "P(\\ket{1} = \\ket{-})\n",
    "=|\\braket{-|1}|^2\n",
    "=|\\frac{1}{\\sqrt{2}}|^2\n",
    "=\\frac{1}{2}\n",
    "$"
   ]
  },
  {
   "cell_type": "markdown",
   "metadata": {},
   "source": [
    "$\n",
    "P(\\ket{+} = \\ket{+})\n",
    "=|\\braket{+|+}|^2\n",
    "=|1|^2\n",
    "=1\n",
    "$\n",
    "<br>\n",
    "<br>\n",
    "$\n",
    "P(\\ket{+} = \\ket{-})\n",
    "=|\\braket{-|+}|^2\n",
    "=|0|^2\n",
    "=0\n",
    "$"
   ]
  },
  {
   "cell_type": "markdown",
   "metadata": {},
   "source": [
    "$\n",
    "P(\\ket{-} = \\ket{+})\n",
    "=|\\braket{+|-}|^2\n",
    "=|0|^2\n",
    "=0\n",
    "$\n",
    "<br>\n",
    "<br>\n",
    "$\n",
    "P(\\ket{-} = \\ket{-})\n",
    "=|\\braket{-|-}|^2\n",
    "=|1|^2\n",
    "=1\n",
    "$"
   ]
  },
  {
   "cell_type": "markdown",
   "metadata": {},
   "source": [
    "TODO: finish equations for measuring on x-axis from states $\\ket{i}$ and $\\ket{-i}$"
   ]
  },
  {
   "cell_type": "markdown",
   "metadata": {},
   "source": [
    "$\n",
    "P(\\ket{i} = \\ket{+})\n",
    "=|\\braket{+|i}|^2\n",
    "=?\n",
    "$\n",
    "<br>\n",
    "<br>\n",
    "$\n",
    "P(\\ket{i} = \\ket{-})\n",
    "=|\\braket{-|i}|^2\n",
    "=?\n",
    "$"
   ]
  },
  {
   "cell_type": "markdown",
   "metadata": {},
   "source": [
    "$\n",
    "P(\\ket{-i} = \\ket{+})\n",
    "=|\\braket{+|-i}|^2\n",
    "=?\n",
    "$\n",
    "<br>\n",
    "<br>\n",
    "$\n",
    "P(\\ket{-i} = \\ket{-})\n",
    "=|\\braket{-|-i}|^2\n",
    "=?\n",
    "$"
   ]
  },
  {
   "cell_type": "markdown",
   "metadata": {},
   "source": [
    "## Y-Axis Measurement"
   ]
  },
  {
   "cell_type": "markdown",
   "metadata": {},
   "source": [
    "$\n",
    "P(\\ket{\\psi} = \\ket{i})\n",
    "=|\\braket{i|\\psi}|^2\n",
    "$\n",
    "<br>\n",
    "<br>\n",
    "$\n",
    "P(\\ket{\\psi} = \\ket{-i})\n",
    "=|\\braket{-i|\\psi}|^2\n",
    "$"
   ]
  },
  {
   "cell_type": "markdown",
   "metadata": {},
   "source": [
    "for example..."
   ]
  },
  {
   "cell_type": "markdown",
   "metadata": {},
   "source": [
    "TODO: finish equations for measuring on y-axis from states $\\ket{0}$, $\\ket{1}$, $\\ket{+}$, $\\ket{-}$, $\\ket{i}$, and $\\ket{-i}$"
   ]
  },
  {
   "cell_type": "markdown",
   "metadata": {},
   "source": [
    "$\n",
    "P(\\ket{0} = \\ket{i})\n",
    "=|\\braket{i|0}|^2\n",
    "=?\n",
    "$\n",
    "<br>\n",
    "<br>\n",
    "$\n",
    "P(\\ket{0} = \\ket{-i})\n",
    "=|\\braket{-i|0}|^2\n",
    "=?\n",
    "$"
   ]
  },
  {
   "cell_type": "markdown",
   "metadata": {},
   "source": [
    "$\n",
    "P(\\ket{1} = \\ket{i})\n",
    "=|\\braket{i|1}|^2\n",
    "=?\n",
    "$\n",
    "<br>\n",
    "<br>\n",
    "$\n",
    "P(\\ket{1} = \\ket{-i})\n",
    "=|\\braket{-i|1}|^2\n",
    "=?\n",
    "$"
   ]
  },
  {
   "cell_type": "markdown",
   "metadata": {},
   "source": [
    "$\n",
    "P(\\ket{+} = \\ket{i})\n",
    "=|\\braket{i|+}|^2\n",
    "=?\n",
    "$\n",
    "<br>\n",
    "<br>\n",
    "$\n",
    "P(\\ket{+} = \\ket{-i})\n",
    "=|\\braket{-i|+}|^2\n",
    "=?\n",
    "$"
   ]
  },
  {
   "cell_type": "markdown",
   "metadata": {},
   "source": [
    "$\n",
    "P(\\ket{-} = \\ket{i})\n",
    "=|\\braket{i|-}|^2\n",
    "=?\n",
    "$\n",
    "<br>\n",
    "<br>\n",
    "$\n",
    "P(\\ket{-} = \\ket{-i})\n",
    "=|\\braket{-i|-}|^2\n",
    "=?\n",
    "$"
   ]
  },
  {
   "cell_type": "markdown",
   "metadata": {},
   "source": [
    "$\n",
    "P(\\ket{i} = \\ket{i})\n",
    "=|\\braket{i|i}|^2\n",
    "=?\n",
    "$\n",
    "<br>\n",
    "<br>\n",
    "$\n",
    "P(\\ket{i} = \\ket{-i})\n",
    "=|\\braket{-i|i}|^2\n",
    "=?\n",
    "$"
   ]
  },
  {
   "cell_type": "markdown",
   "metadata": {},
   "source": [
    "$\n",
    "P(\\ket{-i} = \\ket{i})\n",
    "=|\\braket{i|-i}|^2\n",
    "=?\n",
    "$\n",
    "<br>\n",
    "<br>\n",
    "$\n",
    "P(\\ket{-i} = \\ket{-i})\n",
    "=|\\braket{-i|-i}|^2\n",
    "=?\n",
    "$"
   ]
  }
 ],
 "metadata": {
  "language_info": {
   "name": "python"
  }
 },
 "nbformat": 4,
 "nbformat_minor": 2
}
