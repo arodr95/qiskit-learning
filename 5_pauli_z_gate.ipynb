{
 "cells": [
  {
   "cell_type": "markdown",
   "metadata": {},
   "source": [
    "# Pauli-Z Matrix Representation"
   ]
  },
  {
   "cell_type": "markdown",
   "metadata": {},
   "source": [
    "(phase flip)\n",
    "$\n",
    "Z =\n",
    "\\begin{bmatrix}1&0\\cr 0&-1\\end{bmatrix}\n",
    "$\n",
    "<br>\n",
    "<br>\n",
    "Represents a rotation around the z-axis $\\pi$ or $180\\degree$."
   ]
  },
  {
   "cell_type": "markdown",
   "metadata": {},
   "source": [
    "$\n",
    "\\ket{Z|0} = \n",
    "\\begin{bmatrix}1&0\\cr0&-1\\end{bmatrix}\n",
    "\\begin{bmatrix}1\\cr0\\end{bmatrix}\n",
    "= \\begin{bmatrix}1\\cr 0\\end{bmatrix}\n",
    "=\\ket{0}\n",
    "$"
   ]
  },
  {
   "cell_type": "markdown",
   "metadata": {},
   "source": [
    "$\n",
    "\\ket{Z|1} = \n",
    "\\begin{bmatrix}1&0\\cr0&-1\\end{bmatrix}\n",
    "\\begin{bmatrix}0\\cr1\\end{bmatrix}\n",
    "= \\begin{bmatrix}0\\cr -1\\end{bmatrix}\n",
    "=-\\ket{1}\n",
    "$"
   ]
  },
  {
   "cell_type": "markdown",
   "metadata": {},
   "source": [
    "The negative one in front $\\ket{1}$ is a global phase factor and so $-\\ket{1}$ and $\\ket{1}$ are indistinguisghable but mathematically different.\n",
    "<br>\n",
    "<br>\n",
    "$|0|^2$ + $|-1|^2$ = $|0|^2$ + $|1|^2$ = 1\n",
    "<br>\n",
    "<br>\n",
    "The probabalities of the qubit measurement remain the same!"
   ]
  },
  {
   "cell_type": "markdown",
   "metadata": {},
   "source": [
    "$\n",
    "\\ket{Z|\\psi} = \n",
    "\\begin{bmatrix}1&0\\cr0&-1\\end{bmatrix}\n",
    "\\begin{bmatrix}\\alpha\\cr \\beta\\end{bmatrix}\n",
    "= \\begin{bmatrix}\\alpha\\cr-\\beta\\end{bmatrix}\n",
    "= \\ket{\\alpha|0} - \\ket{\\beta|1}\n",
    "$"
   ]
  },
  {
   "cell_type": "markdown",
   "metadata": {},
   "source": []
  }
 ],
 "metadata": {
  "language_info": {
   "name": "python"
  }
 },
 "nbformat": 4,
 "nbformat_minor": 2
}
